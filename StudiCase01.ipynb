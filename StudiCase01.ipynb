{
  "nbformat": 4,
  "nbformat_minor": 0,
  "metadata": {
    "colab": {
      "provenance": [],
      "authorship_tag": "ABX9TyMojePZN8IcwO9gNKg5SZCc",
      "include_colab_link": true
    },
    "kernelspec": {
      "name": "python3",
      "display_name": "Python 3"
    },
    "language_info": {
      "name": "python"
    }
  },
  "cells": [
    {
      "cell_type": "markdown",
      "metadata": {
        "id": "view-in-github",
        "colab_type": "text"
      },
      "source": [
        "<a href=\"https://colab.research.google.com/github/yogaap113/studicase/blob/main/StudiCase01.ipynb\" target=\"_parent\"><img src=\"https://colab.research.google.com/assets/colab-badge.svg\" alt=\"Open In Colab\"/></a>"
      ]
    },
    {
      "cell_type": "code",
      "source": [
        "import pandas as pd"
      ],
      "metadata": {
        "id": "IsVbGy5FiR4a"
      },
      "execution_count": 4,
      "outputs": []
    },
    {
      "cell_type": "code",
      "source": [
        "!mkdir data"
      ],
      "metadata": {
        "id": "GUOan173nguy"
      },
      "execution_count": 1,
      "outputs": []
    },
    {
      "cell_type": "code",
      "execution_count": 2,
      "metadata": {
        "colab": {
          "base_uri": "https://localhost:8080/"
        },
        "id": "lXrUB6KNiGfy",
        "outputId": "0e6827f3-c537-4c13-9ba6-c2c6feac1c4f"
      },
      "outputs": [
        {
          "output_type": "stream",
          "name": "stdout",
          "text": [
            "--2022-09-28 01:03:55--  https://raw.githubusercontent.com/taufiksutanto/DataMining-CaseStudies/main/data/depok.csv\n",
            "Resolving raw.githubusercontent.com (raw.githubusercontent.com)... 185.199.108.133, 185.199.109.133, 185.199.110.133, ...\n",
            "Connecting to raw.githubusercontent.com (raw.githubusercontent.com)|185.199.108.133|:443... connected.\n",
            "HTTP request sent, awaiting response... 200 OK\n",
            "Length: 43191 (42K) [text/plain]\n",
            "Saving to: ‘data/depok.csv’\n",
            "\n",
            "\rdepok.csv             0%[                    ]       0  --.-KB/s               \rdepok.csv           100%[===================>]  42.18K  --.-KB/s    in 0.001s  \n",
            "\n",
            "2022-09-28 01:03:55 (38.7 MB/s) - ‘data/depok.csv’ saved [43191/43191]\n",
            "\n",
            "--2022-09-28 01:03:55--  https://raw.githubusercontent.com/taufiksutanto/DataMining-CaseStudies/main/data/jakarta.csv\n",
            "Resolving raw.githubusercontent.com (raw.githubusercontent.com)... 185.199.108.133, 185.199.109.133, 185.199.110.133, ...\n",
            "Connecting to raw.githubusercontent.com (raw.githubusercontent.com)|185.199.108.133|:443... connected.\n",
            "HTTP request sent, awaiting response... 200 OK\n",
            "Length: 63832 (62K) [text/plain]\n",
            "Saving to: ‘data/jakarta.csv’\n",
            "\n",
            "jakarta.csv         100%[===================>]  62.34K  --.-KB/s    in 0.002s  \n",
            "\n",
            "2022-09-28 01:03:55 (37.4 MB/s) - ‘data/jakarta.csv’ saved [63832/63832]\n",
            "\n",
            "--2022-09-28 01:03:55--  https://raw.githubusercontent.com/taufiksutanto/DataMining-CaseStudies/main/data/tangerang.csv\n",
            "Resolving raw.githubusercontent.com (raw.githubusercontent.com)... 185.199.108.133, 185.199.109.133, 185.199.110.133, ...\n",
            "Connecting to raw.githubusercontent.com (raw.githubusercontent.com)|185.199.108.133|:443... connected.\n",
            "HTTP request sent, awaiting response... 200 OK\n",
            "Length: 46485 (45K) [text/plain]\n",
            "Saving to: ‘data/tangerang.csv’\n",
            "\n",
            "tangerang.csv       100%[===================>]  45.40K  --.-KB/s    in 0.001s  \n",
            "\n",
            "2022-09-28 01:03:55 (45.8 MB/s) - ‘data/tangerang.csv’ saved [46485/46485]\n",
            "\n"
          ]
        }
      ],
      "source": [
        "!wget -P data/ https://raw.githubusercontent.com/taufiksutanto/DataMining-CaseStudies/main/data/depok.csv\n",
        "!wget -P data/ https://raw.githubusercontent.com/taufiksutanto/DataMining-CaseStudies/main/data/jakarta.csv\n",
        "!wget -P data/ https://raw.githubusercontent.com/taufiksutanto/DataMining-CaseStudies/main/data/tangerang.csv\n"
      ]
    },
    {
      "cell_type": "code",
      "source": [
        "data_depok = pd.read_csv(\"data/depok.csv\", low_memory = False, encoding = \"utf8\")\n",
        "data_jakarta = pd.read_csv(\"data/jakarta.csv\", low_memory = False, encoding = \"utf8\")\n",
        "data_tangerang = pd.read_csv(\"data/tangerang.csv\", low_memory = False, encoding = \"utf8\")"
      ],
      "metadata": {
        "colab": {
          "base_uri": "https://localhost:8080/",
          "height": 200
        },
        "id": "yOwAvtXljpDV",
        "outputId": "a8091ffd-d6a1-4e4d-8fd6-8926bf42caa9"
      },
      "execution_count": 3,
      "outputs": [
        {
          "output_type": "error",
          "ename": "NameError",
          "evalue": "ignored",
          "traceback": [
            "\u001b[0;31m---------------------------------------------------------------------------\u001b[0m",
            "\u001b[0;31mNameError\u001b[0m                                 Traceback (most recent call last)",
            "\u001b[0;32m<ipython-input-3-1c9645249b8c>\u001b[0m in \u001b[0;36m<module>\u001b[0;34m\u001b[0m\n\u001b[0;32m----> 1\u001b[0;31m \u001b[0mdata_depok\u001b[0m \u001b[0;34m=\u001b[0m \u001b[0mpd\u001b[0m\u001b[0;34m.\u001b[0m\u001b[0mread_csv\u001b[0m\u001b[0;34m(\u001b[0m\u001b[0;34m\"data/depok.csv\"\u001b[0m\u001b[0;34m,\u001b[0m \u001b[0mlow_memory\u001b[0m \u001b[0;34m=\u001b[0m \u001b[0;32mFalse\u001b[0m\u001b[0;34m,\u001b[0m \u001b[0mencoding\u001b[0m \u001b[0;34m=\u001b[0m \u001b[0;34m\"utf8\"\u001b[0m\u001b[0;34m)\u001b[0m\u001b[0;34m\u001b[0m\u001b[0;34m\u001b[0m\u001b[0m\n\u001b[0m\u001b[1;32m      2\u001b[0m \u001b[0mdata_jakarta\u001b[0m \u001b[0;34m=\u001b[0m \u001b[0mpd\u001b[0m\u001b[0;34m.\u001b[0m\u001b[0mread_csv\u001b[0m\u001b[0;34m(\u001b[0m\u001b[0;34m\"data/jakarta.csv\"\u001b[0m\u001b[0;34m,\u001b[0m \u001b[0mlow_memory\u001b[0m \u001b[0;34m=\u001b[0m \u001b[0;32mFalse\u001b[0m\u001b[0;34m,\u001b[0m \u001b[0mencoding\u001b[0m \u001b[0;34m=\u001b[0m \u001b[0;34m\"utf8\"\u001b[0m\u001b[0;34m)\u001b[0m\u001b[0;34m\u001b[0m\u001b[0;34m\u001b[0m\u001b[0m\n\u001b[1;32m      3\u001b[0m \u001b[0mdata_tangerang\u001b[0m \u001b[0;34m=\u001b[0m \u001b[0mpd\u001b[0m\u001b[0;34m.\u001b[0m\u001b[0mread_csv\u001b[0m\u001b[0;34m(\u001b[0m\u001b[0;34m\"data/tangerang.csv\"\u001b[0m\u001b[0;34m,\u001b[0m \u001b[0mlow_memory\u001b[0m \u001b[0;34m=\u001b[0m \u001b[0;32mFalse\u001b[0m\u001b[0;34m,\u001b[0m \u001b[0mencoding\u001b[0m \u001b[0;34m=\u001b[0m \u001b[0;34m\"utf8\"\u001b[0m\u001b[0;34m)\u001b[0m\u001b[0;34m\u001b[0m\u001b[0;34m\u001b[0m\u001b[0m\n",
            "\u001b[0;31mNameError\u001b[0m: name 'pd' is not defined"
          ]
        }
      ]
    }
  ]
}